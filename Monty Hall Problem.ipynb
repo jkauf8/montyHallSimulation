{
 "cells": [
  {
   "cell_type": "markdown",
   "id": "blank-bulletin",
   "metadata": {},
   "source": [
    "## Monty Hall Simulation"
   ]
  },
  {
   "cell_type": "code",
   "execution_count": 32,
   "id": "medieval-cradle",
   "metadata": {},
   "outputs": [],
   "source": [
    "import random"
   ]
  },
  {
   "cell_type": "code",
   "execution_count": 37,
   "id": "devoted-calcium",
   "metadata": {},
   "outputs": [
    {
     "data": {
      "text/plain": [
       "6690"
      ]
     },
     "execution_count": 37,
     "metadata": {},
     "output_type": "execute_result"
    }
   ],
   "source": [
    "count=0\n",
    "for i in range(10000):\n",
    "    car=randint(1,3)\n",
    "    user=randint(1,3)\n",
    "    if user==1 and car==1:\n",
    "        host=random.choice([2,3])\n",
    "    elif user==1 and car==2:\n",
    "        host=3\n",
    "    elif user==1 and car ==3:\n",
    "        host=2\n",
    "    elif user==2 and car==2:\n",
    "        host=random.choice([1,3])\n",
    "    elif user==2 and car==1:\n",
    "        host=3\n",
    "    elif user==2 and car ==3:\n",
    "        host=1\n",
    "    elif user==3 and car==3:\n",
    "        host=random.choice([1,2])\n",
    "    elif user==3 and car==2:\n",
    "        host=1\n",
    "    elif user==3 and car==1:\n",
    "        host=2\n",
    "    \n",
    "    if user==1 and host==2:\n",
    "        extraDoor=3\n",
    "    elif user==1 and host==3:\n",
    "        extraDoor=2\n",
    "    elif user==2 and host==1:\n",
    "        extraDoor=3\n",
    "    elif user==2 and host==3:\n",
    "        extraDoor=1\n",
    "    elif user==3 and host==2:\n",
    "        extraDoor=1\n",
    "    elif user==3 and host==1:\n",
    "        extraDoor=2\n",
    "        \n",
    "        \n",
    "    if user!=car:\n",
    "#         newList=[user,car]\n",
    "#         user==car\n",
    "        count=count+1\n",
    "    else:\n",
    "        newList=[user,extraDoor]\n",
    "count\n",
    "    "
   ]
  },
  {
   "cell_type": "code",
   "execution_count": 38,
   "id": "different-pressing",
   "metadata": {},
   "outputs": [
    {
     "data": {
      "text/plain": [
       "0.669"
      ]
     },
     "execution_count": 38,
     "metadata": {},
     "output_type": "execute_result"
    }
   ],
   "source": [
    "count/10000"
   ]
  },
  {
   "cell_type": "code",
   "execution_count": null,
   "id": "funny-register",
   "metadata": {},
   "outputs": [],
   "source": []
  }
 ],
 "metadata": {
  "kernelspec": {
   "display_name": "Python 3",
   "language": "python",
   "name": "python3"
  },
  "language_info": {
   "codemirror_mode": {
    "name": "ipython",
    "version": 3
   },
   "file_extension": ".py",
   "mimetype": "text/x-python",
   "name": "python",
   "nbconvert_exporter": "python",
   "pygments_lexer": "ipython3",
   "version": "3.9.1"
  }
 },
 "nbformat": 4,
 "nbformat_minor": 5
}
